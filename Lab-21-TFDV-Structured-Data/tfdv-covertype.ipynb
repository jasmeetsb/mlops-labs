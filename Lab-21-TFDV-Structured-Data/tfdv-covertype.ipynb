{
 "cells": [
  {
   "cell_type": "markdown",
   "metadata": {},
   "source": [
    "# Analyzing structured data with Tensorflow Data Validation\n",
    "\n",
    "This notebook demonstrates how TensorFlow Data Validation (TFDV) can be used to analyze and validate structured data, including generating descriptive statistics, inferring and fine tuning schema, checking for and fixing anomalies, and detecting drift and skew. It's important to understand your dataset's characteristics, including how it might change over time in your production pipeline. It's also important to look for anomalies in your data, and to compare your training, evaluation, and serving datasets to make sure that they're consistent. TFDV is the tool to achieve it.\n",
    "\n",
    "You are going to use a variant of Cover Type dataset. For more information about the dataset refer to [the dataset summary page.](../../datasets/covertype/README.md)"
   ]
  },
  {
   "cell_type": "markdown",
   "metadata": {},
   "source": [
    "## Lab setup\n",
    "### Import packages and check the versions"
   ]
  },
  {
   "cell_type": "code",
   "execution_count": 1,
   "metadata": {},
   "outputs": [
    {
     "name": "stdout",
     "output_type": "stream",
     "text": [
      "TensorFlow version: 2.0.0\n",
      "TensorFlow Data Validation version: 0.15.0\n"
     ]
    }
   ],
   "source": [
    "import os\n",
    "import tempfile\n",
    "import tensorflow as tf\n",
    "import tensorflow_data_validation as tfdv\n",
    "import time\n",
    "\n",
    "from apache_beam.options.pipeline_options import PipelineOptions, GoogleCloudOptions, StandardOptions, SetupOptions, DebugOptions, WorkerOptions\n",
    "from google.protobuf import text_format\n",
    "from tensorflow_metadata.proto.v0 import schema_pb2, statistics_pb2\n",
    "\n",
    "print('TensorFlow version: {}'.format(tf.__version__))\n",
    "print('TensorFlow Data Validation version: {}'.format(tfdv.__version__))"
   ]
  },
  {
   "cell_type": "markdown",
   "metadata": {},
   "source": [
    "### Set the locations"
   ]
  },
  {
   "cell_type": "code",
   "execution_count": 2,
   "metadata": {},
   "outputs": [],
   "source": [
    "TRAINING_DATASET='gs://workshop-datasets/covertype/training/covertype_training.csv'\n",
    "TRAINING_DATASET_WITH_MISSING_VALUES='gs://workshop-datasets/covertype/training_missing/covertype_training_missing.csv'\n",
    "EVALUATION_DATASET='gs://workshop-datasets/covertype/evaluation/covertype_evaluation.csv'\n",
    "EVALUATION_DATASET_WITH_ANOMALIES='gs://workshop-datasets/covertype/evaluation_anomalies/covertype_evaluation_anomalies.csv'\n",
    "SERVING_DATASET='gs://workshop-datasets/covertype/serving/covertype_serving.csv'\n",
    "LAB_ROOT_FOLDER='/home/mlops-labs/Lab-21-TFDV-Structured-Data'"
   ]
  },
  {
   "cell_type": "markdown",
   "metadata": {},
   "source": [
    "### Configure GCP settings"
   ]
  },
  {
   "cell_type": "code",
   "execution_count": 3,
   "metadata": {},
   "outputs": [],
   "source": [
    "PROJECT_ID = 'jk-mlops-demo'\n",
    "REGION = 'us-central1'\n",
    "STAGING_BUCKET = 'gs://{}-lab11'.format(PROJECT_ID)"
   ]
  },
  {
   "cell_type": "markdown",
   "metadata": {},
   "source": [
    "### Create a GCP staging bucket"
   ]
  },
  {
   "cell_type": "code",
   "execution_count": null,
   "metadata": {},
   "outputs": [],
   "source": [
    "!gsutil mb -p $PROJECT_ID $STAGING_BUCKET "
   ]
  },
  {
   "cell_type": "markdown",
   "metadata": {},
   "source": [
    "## Computing and visualizing descriptive statistics\n",
    "\n",
    " \n",
    "TFDV can compute descriptive statistics that provide a quick overview of the data in terms of the features that are present and the shapes of their value distributions.\n",
    "\n",
    "Internally, TFDV uses Apache Beam's data-parallel processing framework to scale the computation of statistics over large datasets. For applications that wish to integrate deeper with TFDV (e.g., attach statistics generation at the end of a data-generation pipeline), the API also exposes a Beam PTransform for statistics generation.\n",
    "\n",
    "Let's start by using `tfdv.generate_statistics_from_csv` to compute statistics for the training data split.\n",
    "\n",
    "Notice that although your dataset is in Google Cloud Storage you will run you computation locally on the notebook's host, using the Beam DirectRunner. Later in the lab, you will use Cloud Dataflow to calculate statistics on a remote distributed cluster."
   ]
  },
  {
   "cell_type": "code",
   "execution_count": 4,
   "metadata": {},
   "outputs": [
    {
     "name": "stderr",
     "output_type": "stream",
     "text": [
      "WARNING:root:Couldn't find python-snappy so the implementation of _TFRecordUtil._masked_crc32c is not as fast as it could be.\n"
     ]
    },
    {
     "name": "stdout",
     "output_type": "stream",
     "text": [
      "WARNING:tensorflow:From /root/miniconda3/envs/tfx/lib/python3.6/site-packages/tensorflow_data_validation/utils/stats_gen_lib.py:366: tf_record_iterator (from tensorflow.python.lib.io.tf_record) is deprecated and will be removed in a future version.\n",
      "Instructions for updating:\n",
      "Use eager execution and: \n",
      "`tf.data.TFRecordDataset(path)`\n"
     ]
    },
    {
     "name": "stderr",
     "output_type": "stream",
     "text": [
      "WARNING:tensorflow:From /root/miniconda3/envs/tfx/lib/python3.6/site-packages/tensorflow_data_validation/utils/stats_gen_lib.py:366: tf_record_iterator (from tensorflow.python.lib.io.tf_record) is deprecated and will be removed in a future version.\n",
      "Instructions for updating:\n",
      "Use eager execution and: \n",
      "`tf.data.TFRecordDataset(path)`\n"
     ]
    }
   ],
   "source": [
    "train_stats = tfdv.generate_statistics_from_csv(\n",
    "    data_location=TRAINING_DATASET_WITH_MISSING_VALUES\n",
    ")"
   ]
  },
  {
   "cell_type": "markdown",
   "metadata": {},
   "source": [
    "You can now use `tfdv.visualize_statistics` to create a visualization of your data. `tfdv.visualize_statistics` uses [Facets](https://pair-code.github.io/facets/) that provides succinct, interactive visualizations to aid in understanding and analyzing machine learning datasets."
   ]
  },
  {
   "cell_type": "code",
   "execution_count": 5,
   "metadata": {},
   "outputs": [
    {
     "data": {
      "text/html": [
       "<iframe id='facets-iframe' width=\"100%\" height=\"500px\"></iframe>\n",
       "        <script>\n",
       "        facets_iframe = document.getElementById('facets-iframe');\n",
       "        facets_html = '<link rel=\"import\" href=\"https://raw.githubusercontent.com/PAIR-code/facets/master/facets-dist/facets-jupyter.html\"><facets-overview proto-input=\"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\"></facets-overview>';\n",
       "        facets_iframe.srcdoc = facets_html;\n",
       "         facets_iframe.id = \"\";\n",
       "         setTimeout(() => {\n",
       "           facets_iframe.setAttribute('height', facets_iframe.contentWindow.document.body.offsetHeight + 'px')\n",
       "         }, 1500)\n",
       "         </script>"
      ],
      "text/plain": [
       "<IPython.core.display.HTML object>"
      ]
     },
     "metadata": {},
     "output_type": "display_data"
    }
   ],
   "source": [
    "tfdv.visualize_statistics(train_stats)"
   ]
  },
  {
   "cell_type": "markdown",
   "metadata": {},
   "source": [
    "The interactive widget you see is **Facets Overview**. \n",
    "- Numeric features and categorical features are visualized separately, including charts showing the distributions for each feature.\n",
    "- Features with missing or zero values display a percentage in red as a visual indicator that there may be issues with examples in those features. The percentage is the percentage of examples that have missing or zero values for that feature.\n",
    "- Try clicking \"expand\" above the charts to change the display\n",
    "- Try hovering over bars in the charts to display bucket ranges and counts\n",
    "- Try switching between the log and linear scales\n",
    "- Try selecting \"quantiles\" from the \"Chart to show\" menu, and hover over the markers to show the quantile percentages"
   ]
  },
  {
   "cell_type": "markdown",
   "metadata": {},
   "source": [
    "## Infering Schema\n",
    "Now let's use `tfdv.infer_schema` to create a schema for the data. A schema defines constraints for the data that are relevant for ML. Example constraints include the data type of each feature, whether it's numerical or categorical, or the frequency of its presence in the data. For categorical features the schema also defines the domain - the list of acceptable values. Since writing a schema can be a tedious task, especially for datasets with lots of features, TFDV provides a method to generate an initial version of the schema based on the descriptive statistics."
   ]
  },
  {
   "cell_type": "markdown",
   "metadata": {},
   "source": [
    "### Infer the schema from the training dataset statistics"
   ]
  },
  {
   "cell_type": "code",
   "execution_count": 6,
   "metadata": {},
   "outputs": [
    {
     "data": {
      "text/html": [
       "<div>\n",
       "<style scoped>\n",
       "    .dataframe tbody tr th:only-of-type {\n",
       "        vertical-align: middle;\n",
       "    }\n",
       "\n",
       "    .dataframe tbody tr th {\n",
       "        vertical-align: top;\n",
       "    }\n",
       "\n",
       "    .dataframe thead th {\n",
       "        text-align: right;\n",
       "    }\n",
       "</style>\n",
       "<table border=\"1\" class=\"dataframe\">\n",
       "  <thead>\n",
       "    <tr style=\"text-align: right;\">\n",
       "      <th></th>\n",
       "      <th>Type</th>\n",
       "      <th>Presence</th>\n",
       "      <th>Valency</th>\n",
       "      <th>Domain</th>\n",
       "    </tr>\n",
       "    <tr>\n",
       "      <th>Feature name</th>\n",
       "      <th></th>\n",
       "      <th></th>\n",
       "      <th></th>\n",
       "      <th></th>\n",
       "    </tr>\n",
       "  </thead>\n",
       "  <tbody>\n",
       "    <tr>\n",
       "      <th>'Aspect'</th>\n",
       "      <td>INT</td>\n",
       "      <td>required</td>\n",
       "      <td></td>\n",
       "      <td>-</td>\n",
       "    </tr>\n",
       "    <tr>\n",
       "      <th>'Cover_Type'</th>\n",
       "      <td>INT</td>\n",
       "      <td>required</td>\n",
       "      <td></td>\n",
       "      <td>-</td>\n",
       "    </tr>\n",
       "    <tr>\n",
       "      <th>'Elevation'</th>\n",
       "      <td>INT</td>\n",
       "      <td>required</td>\n",
       "      <td></td>\n",
       "      <td>-</td>\n",
       "    </tr>\n",
       "    <tr>\n",
       "      <th>'Hillshade_3pm'</th>\n",
       "      <td>INT</td>\n",
       "      <td>required</td>\n",
       "      <td></td>\n",
       "      <td>-</td>\n",
       "    </tr>\n",
       "    <tr>\n",
       "      <th>'Hillshade_9am'</th>\n",
       "      <td>INT</td>\n",
       "      <td>required</td>\n",
       "      <td></td>\n",
       "      <td>-</td>\n",
       "    </tr>\n",
       "    <tr>\n",
       "      <th>'Hillshade_Noon'</th>\n",
       "      <td>INT</td>\n",
       "      <td>required</td>\n",
       "      <td></td>\n",
       "      <td>-</td>\n",
       "    </tr>\n",
       "    <tr>\n",
       "      <th>'Horizontal_Distance_To_Fire_Points'</th>\n",
       "      <td>INT</td>\n",
       "      <td>required</td>\n",
       "      <td></td>\n",
       "      <td>-</td>\n",
       "    </tr>\n",
       "    <tr>\n",
       "      <th>'Horizontal_Distance_To_Hydrology'</th>\n",
       "      <td>FLOAT</td>\n",
       "      <td>optional</td>\n",
       "      <td>single</td>\n",
       "      <td>-</td>\n",
       "    </tr>\n",
       "    <tr>\n",
       "      <th>'Horizontal_Distance_To_Roadways'</th>\n",
       "      <td>INT</td>\n",
       "      <td>required</td>\n",
       "      <td></td>\n",
       "      <td>-</td>\n",
       "    </tr>\n",
       "    <tr>\n",
       "      <th>'Slope'</th>\n",
       "      <td>INT</td>\n",
       "      <td>required</td>\n",
       "      <td></td>\n",
       "      <td>-</td>\n",
       "    </tr>\n",
       "    <tr>\n",
       "      <th>'Soil_Type'</th>\n",
       "      <td>INT</td>\n",
       "      <td>required</td>\n",
       "      <td></td>\n",
       "      <td>-</td>\n",
       "    </tr>\n",
       "    <tr>\n",
       "      <th>'Vertical_Distance_To_Hydrology'</th>\n",
       "      <td>INT</td>\n",
       "      <td>required</td>\n",
       "      <td></td>\n",
       "      <td>-</td>\n",
       "    </tr>\n",
       "    <tr>\n",
       "      <th>'Wilderness_Area'</th>\n",
       "      <td>STRING</td>\n",
       "      <td>required</td>\n",
       "      <td></td>\n",
       "      <td>'Wilderness_Area'</td>\n",
       "    </tr>\n",
       "  </tbody>\n",
       "</table>\n",
       "</div>"
      ],
      "text/plain": [
       "                                        Type  Presence Valency  \\\n",
       "Feature name                                                     \n",
       "'Aspect'                                 INT  required           \n",
       "'Cover_Type'                             INT  required           \n",
       "'Elevation'                              INT  required           \n",
       "'Hillshade_3pm'                          INT  required           \n",
       "'Hillshade_9am'                          INT  required           \n",
       "'Hillshade_Noon'                         INT  required           \n",
       "'Horizontal_Distance_To_Fire_Points'     INT  required           \n",
       "'Horizontal_Distance_To_Hydrology'     FLOAT  optional  single   \n",
       "'Horizontal_Distance_To_Roadways'        INT  required           \n",
       "'Slope'                                  INT  required           \n",
       "'Soil_Type'                              INT  required           \n",
       "'Vertical_Distance_To_Hydrology'         INT  required           \n",
       "'Wilderness_Area'                     STRING  required           \n",
       "\n",
       "                                                 Domain  \n",
       "Feature name                                             \n",
       "'Aspect'                                              -  \n",
       "'Cover_Type'                                          -  \n",
       "'Elevation'                                           -  \n",
       "'Hillshade_3pm'                                       -  \n",
       "'Hillshade_9am'                                       -  \n",
       "'Hillshade_Noon'                                      -  \n",
       "'Horizontal_Distance_To_Fire_Points'                  -  \n",
       "'Horizontal_Distance_To_Hydrology'                    -  \n",
       "'Horizontal_Distance_To_Roadways'                     -  \n",
       "'Slope'                                               -  \n",
       "'Soil_Type'                                           -  \n",
       "'Vertical_Distance_To_Hydrology'                      -  \n",
       "'Wilderness_Area'                     'Wilderness_Area'  "
      ]
     },
     "metadata": {},
     "output_type": "display_data"
    },
    {
     "data": {
      "text/html": [
       "<div>\n",
       "<style scoped>\n",
       "    .dataframe tbody tr th:only-of-type {\n",
       "        vertical-align: middle;\n",
       "    }\n",
       "\n",
       "    .dataframe tbody tr th {\n",
       "        vertical-align: top;\n",
       "    }\n",
       "\n",
       "    .dataframe thead th {\n",
       "        text-align: right;\n",
       "    }\n",
       "</style>\n",
       "<table border=\"1\" class=\"dataframe\">\n",
       "  <thead>\n",
       "    <tr style=\"text-align: right;\">\n",
       "      <th></th>\n",
       "      <th>Values</th>\n",
       "    </tr>\n",
       "    <tr>\n",
       "      <th>Domain</th>\n",
       "      <th></th>\n",
       "    </tr>\n",
       "  </thead>\n",
       "  <tbody>\n",
       "    <tr>\n",
       "      <th>'Wilderness_Area'</th>\n",
       "      <td>'Cache', 'Commanche', 'Neota', 'Rawah'</td>\n",
       "    </tr>\n",
       "  </tbody>\n",
       "</table>\n",
       "</div>"
      ],
      "text/plain": [
       "                                                   Values\n",
       "Domain                                                   \n",
       "'Wilderness_Area'  'Cache', 'Commanche', 'Neota', 'Rawah'"
      ]
     },
     "metadata": {},
     "output_type": "display_data"
    }
   ],
   "source": [
    "schema = tfdv.infer_schema(train_stats)\n",
    "tfdv.display_schema(schema=schema)"
   ]
  },
  {
   "cell_type": "markdown",
   "metadata": {},
   "source": [
    "In general, TFDV uses conservative heuristics to infer stable data properties from the statistics in order to avoid overfitting the schema to the specific dataset. It is strongly advised to review the inferred schema and refine it as needed, to capture any domain knowledge about the data that TFDV's heuristics might have missed.\n",
    "\n",
    "In our case `tfdv.infer_schema` did not interpreted the `Soil_Type` and `Cover_Type` fields properly. Although both fields are encoded as integers, they should be interpreted as categorical rather than numeric. \n",
    "\n",
    "You can use TFDV to manually update the schema including, specifing which features are categorical and which ones are quantitative and defining feature domains.\n"
   ]
  },
  {
   "cell_type": "markdown",
   "metadata": {},
   "source": [
    "### Fine tune the schema\n",
    "\n",
    "You are going to modify the schema:\n",
    "- Particularize the `Soil_Type` and `Cover_Type` as categorical features. Notice that at this point you don't set the domain of `Soil_Type` as enumerating all possible values is not possible without a full scan of the dataset.  After you re-generate the statistics using the correct feature designations you can retrieve the domain from the new statistics and finalize the schema\n",
    "- Set contstraints on the values of the `Slope` feature. You know that the slope is measured in degrees of arc and should be in the 0-90 range."
   ]
  },
  {
   "cell_type": "code",
   "execution_count": 7,
   "metadata": {},
   "outputs": [
    {
     "data": {
      "text/html": [
       "<div>\n",
       "<style scoped>\n",
       "    .dataframe tbody tr th:only-of-type {\n",
       "        vertical-align: middle;\n",
       "    }\n",
       "\n",
       "    .dataframe tbody tr th {\n",
       "        vertical-align: top;\n",
       "    }\n",
       "\n",
       "    .dataframe thead th {\n",
       "        text-align: right;\n",
       "    }\n",
       "</style>\n",
       "<table border=\"1\" class=\"dataframe\">\n",
       "  <thead>\n",
       "    <tr style=\"text-align: right;\">\n",
       "      <th></th>\n",
       "      <th>Type</th>\n",
       "      <th>Presence</th>\n",
       "      <th>Valency</th>\n",
       "      <th>Domain</th>\n",
       "    </tr>\n",
       "    <tr>\n",
       "      <th>Feature name</th>\n",
       "      <th></th>\n",
       "      <th></th>\n",
       "      <th></th>\n",
       "      <th></th>\n",
       "    </tr>\n",
       "  </thead>\n",
       "  <tbody>\n",
       "    <tr>\n",
       "      <th>'Aspect'</th>\n",
       "      <td>INT</td>\n",
       "      <td>required</td>\n",
       "      <td></td>\n",
       "      <td>-</td>\n",
       "    </tr>\n",
       "    <tr>\n",
       "      <th>'Cover_Type'</th>\n",
       "      <td>INT</td>\n",
       "      <td>required</td>\n",
       "      <td></td>\n",
       "      <td>[1,7]</td>\n",
       "    </tr>\n",
       "    <tr>\n",
       "      <th>'Elevation'</th>\n",
       "      <td>INT</td>\n",
       "      <td>required</td>\n",
       "      <td></td>\n",
       "      <td>-</td>\n",
       "    </tr>\n",
       "    <tr>\n",
       "      <th>'Hillshade_3pm'</th>\n",
       "      <td>INT</td>\n",
       "      <td>required</td>\n",
       "      <td></td>\n",
       "      <td>-</td>\n",
       "    </tr>\n",
       "    <tr>\n",
       "      <th>'Hillshade_9am'</th>\n",
       "      <td>INT</td>\n",
       "      <td>required</td>\n",
       "      <td></td>\n",
       "      <td>-</td>\n",
       "    </tr>\n",
       "    <tr>\n",
       "      <th>'Hillshade_Noon'</th>\n",
       "      <td>INT</td>\n",
       "      <td>required</td>\n",
       "      <td></td>\n",
       "      <td>-</td>\n",
       "    </tr>\n",
       "    <tr>\n",
       "      <th>'Horizontal_Distance_To_Fire_Points'</th>\n",
       "      <td>INT</td>\n",
       "      <td>required</td>\n",
       "      <td></td>\n",
       "      <td>-</td>\n",
       "    </tr>\n",
       "    <tr>\n",
       "      <th>'Horizontal_Distance_To_Hydrology'</th>\n",
       "      <td>FLOAT</td>\n",
       "      <td>optional</td>\n",
       "      <td>single</td>\n",
       "      <td>-</td>\n",
       "    </tr>\n",
       "    <tr>\n",
       "      <th>'Horizontal_Distance_To_Roadways'</th>\n",
       "      <td>INT</td>\n",
       "      <td>required</td>\n",
       "      <td></td>\n",
       "      <td>-</td>\n",
       "    </tr>\n",
       "    <tr>\n",
       "      <th>'Slope'</th>\n",
       "      <td>FLOAT</td>\n",
       "      <td>required</td>\n",
       "      <td></td>\n",
       "      <td>[0.000000,90.000000]</td>\n",
       "    </tr>\n",
       "    <tr>\n",
       "      <th>'Soil_Type'</th>\n",
       "      <td>STRING</td>\n",
       "      <td>required</td>\n",
       "      <td></td>\n",
       "      <td>'Soil_Type'</td>\n",
       "    </tr>\n",
       "    <tr>\n",
       "      <th>'Vertical_Distance_To_Hydrology'</th>\n",
       "      <td>INT</td>\n",
       "      <td>required</td>\n",
       "      <td></td>\n",
       "      <td>-</td>\n",
       "    </tr>\n",
       "    <tr>\n",
       "      <th>'Wilderness_Area'</th>\n",
       "      <td>STRING</td>\n",
       "      <td>required</td>\n",
       "      <td></td>\n",
       "      <td>'Wilderness_Area'</td>\n",
       "    </tr>\n",
       "  </tbody>\n",
       "</table>\n",
       "</div>"
      ],
      "text/plain": [
       "                                        Type  Presence Valency  \\\n",
       "Feature name                                                     \n",
       "'Aspect'                              INT     required           \n",
       "'Cover_Type'                          INT     required           \n",
       "'Elevation'                           INT     required           \n",
       "'Hillshade_3pm'                       INT     required           \n",
       "'Hillshade_9am'                       INT     required           \n",
       "'Hillshade_Noon'                      INT     required           \n",
       "'Horizontal_Distance_To_Fire_Points'  INT     required           \n",
       "'Horizontal_Distance_To_Hydrology'    FLOAT   optional  single   \n",
       "'Horizontal_Distance_To_Roadways'     INT     required           \n",
       "'Slope'                               FLOAT   required           \n",
       "'Soil_Type'                           STRING  required           \n",
       "'Vertical_Distance_To_Hydrology'      INT     required           \n",
       "'Wilderness_Area'                     STRING  required           \n",
       "\n",
       "                                                    Domain  \n",
       "Feature name                                                \n",
       "'Aspect'                              -                     \n",
       "'Cover_Type'                          [1,7]                 \n",
       "'Elevation'                           -                     \n",
       "'Hillshade_3pm'                       -                     \n",
       "'Hillshade_9am'                       -                     \n",
       "'Hillshade_Noon'                      -                     \n",
       "'Horizontal_Distance_To_Fire_Points'  -                     \n",
       "'Horizontal_Distance_To_Hydrology'    -                     \n",
       "'Horizontal_Distance_To_Roadways'     -                     \n",
       "'Slope'                               [0.000000,90.000000]  \n",
       "'Soil_Type'                           'Soil_Type'           \n",
       "'Vertical_Distance_To_Hydrology'      -                     \n",
       "'Wilderness_Area'                     'Wilderness_Area'     "
      ]
     },
     "metadata": {},
     "output_type": "display_data"
    },
    {
     "data": {
      "text/html": [
       "<div>\n",
       "<style scoped>\n",
       "    .dataframe tbody tr th:only-of-type {\n",
       "        vertical-align: middle;\n",
       "    }\n",
       "\n",
       "    .dataframe tbody tr th {\n",
       "        vertical-align: top;\n",
       "    }\n",
       "\n",
       "    .dataframe thead th {\n",
       "        text-align: right;\n",
       "    }\n",
       "</style>\n",
       "<table border=\"1\" class=\"dataframe\">\n",
       "  <thead>\n",
       "    <tr style=\"text-align: right;\">\n",
       "      <th></th>\n",
       "      <th>Values</th>\n",
       "    </tr>\n",
       "    <tr>\n",
       "      <th>Domain</th>\n",
       "      <th></th>\n",
       "    </tr>\n",
       "  </thead>\n",
       "  <tbody>\n",
       "    <tr>\n",
       "      <th>'Wilderness_Area'</th>\n",
       "      <td>'Cache', 'Commanche', 'Neota', 'Rawah'</td>\n",
       "    </tr>\n",
       "    <tr>\n",
       "      <th>'Soil_Type'</th>\n",
       "      <td></td>\n",
       "    </tr>\n",
       "  </tbody>\n",
       "</table>\n",
       "</div>"
      ],
      "text/plain": [
       "                                                   Values\n",
       "Domain                                                   \n",
       "'Wilderness_Area'  'Cache', 'Commanche', 'Neota', 'Rawah'\n",
       "'Soil_Type'                                              "
      ]
     },
     "metadata": {},
     "output_type": "display_data"
    }
   ],
   "source": [
    "tfdv.get_feature(schema, 'Soil_Type').type = schema_pb2.FeatureType.BYTES\n",
    "tfdv.set_domain(schema, 'Soil_Type', schema_pb2.StringDomain(name='Soil_Type', value=[]))\n",
    "\n",
    "tfdv.set_domain(schema, 'Cover_Type', schema_pb2.IntDomain(name='Cover_Type', min=1, max=7, is_categorical=True))\n",
    "\n",
    "tfdv.get_feature(schema, 'Slope').type = schema_pb2.FeatureType.FLOAT\n",
    "tfdv.set_domain(schema, 'Slope',  schema_pb2.FloatDomain(name='Slope', min=0, max=90))\n",
    "\n",
    "tfdv.display_schema(schema=schema)"
   ]
  },
  {
   "cell_type": "markdown",
   "metadata": {},
   "source": [
    "### Generate new statistics using the updated schema."
   ]
  },
  {
   "cell_type": "code",
   "execution_count": 8,
   "metadata": {},
   "outputs": [
    {
     "data": {
      "text/html": [
       "<iframe id='facets-iframe' width=\"100%\" height=\"500px\"></iframe>\n",
       "        <script>\n",
       "        facets_iframe = document.getElementById('facets-iframe');\n",
       "        facets_html = '<link rel=\"import\" href=\"https://raw.githubusercontent.com/PAIR-code/facets/master/facets-dist/facets-jupyter.html\"><facets-overview proto-input=\"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\"></facets-overview>';\n",
       "        facets_iframe.srcdoc = facets_html;\n",
       "         facets_iframe.id = \"\";\n",
       "         setTimeout(() => {\n",
       "           facets_iframe.setAttribute('height', facets_iframe.contentWindow.document.body.offsetHeight + 'px')\n",
       "         }, 1500)\n",
       "         </script>"
      ],
      "text/plain": [
       "<IPython.core.display.HTML object>"
      ]
     },
     "metadata": {},
     "output_type": "display_data"
    }
   ],
   "source": [
    "stats_options = tfdv.StatsOptions(schema=schema, infer_type_from_schema=True)\n",
    "\n",
    "train_stats = tfdv.generate_statistics_from_csv(\n",
    "    data_location=TRAINING_DATASET_WITH_MISSING_VALUES,\n",
    "    stats_options=stats_options,\n",
    ")\n",
    "\n",
    "tfdv.visualize_statistics(train_stats)"
   ]
  },
  {
   "cell_type": "markdown",
   "metadata": {},
   "source": [
    "### Finalize the schema\n",
    "The `train_stats` object is a instance of the `statistics_pb2` class, which is a Python wrapper around the [`statistics.proto` protbuf](https://github.com/tensorflow/metadata/blob/master/tensorflow_metadata/proto/v0/statistics.proto). You can use [the protobuf Python interface](https://developers.google.com/protocol-buffers/docs/reference/python-generated) to retrieve the generated statistics, including the infered domains of categorical features."
   ]
  },
  {
   "cell_type": "code",
   "execution_count": 9,
   "metadata": {},
   "outputs": [
    {
     "name": "stderr",
     "output_type": "stream",
     "text": [
      "WARNING:root:Replacing existing domain of feature \"Soil_Type\".\n"
     ]
    },
    {
     "data": {
      "text/html": [
       "<div>\n",
       "<style scoped>\n",
       "    .dataframe tbody tr th:only-of-type {\n",
       "        vertical-align: middle;\n",
       "    }\n",
       "\n",
       "    .dataframe tbody tr th {\n",
       "        vertical-align: top;\n",
       "    }\n",
       "\n",
       "    .dataframe thead th {\n",
       "        text-align: right;\n",
       "    }\n",
       "</style>\n",
       "<table border=\"1\" class=\"dataframe\">\n",
       "  <thead>\n",
       "    <tr style=\"text-align: right;\">\n",
       "      <th></th>\n",
       "      <th>Type</th>\n",
       "      <th>Presence</th>\n",
       "      <th>Valency</th>\n",
       "      <th>Domain</th>\n",
       "    </tr>\n",
       "    <tr>\n",
       "      <th>Feature name</th>\n",
       "      <th></th>\n",
       "      <th></th>\n",
       "      <th></th>\n",
       "      <th></th>\n",
       "    </tr>\n",
       "  </thead>\n",
       "  <tbody>\n",
       "    <tr>\n",
       "      <th>'Aspect'</th>\n",
       "      <td>INT</td>\n",
       "      <td>required</td>\n",
       "      <td></td>\n",
       "      <td>-</td>\n",
       "    </tr>\n",
       "    <tr>\n",
       "      <th>'Cover_Type'</th>\n",
       "      <td>INT</td>\n",
       "      <td>required</td>\n",
       "      <td></td>\n",
       "      <td>[1,7]</td>\n",
       "    </tr>\n",
       "    <tr>\n",
       "      <th>'Elevation'</th>\n",
       "      <td>INT</td>\n",
       "      <td>required</td>\n",
       "      <td></td>\n",
       "      <td>-</td>\n",
       "    </tr>\n",
       "    <tr>\n",
       "      <th>'Hillshade_3pm'</th>\n",
       "      <td>INT</td>\n",
       "      <td>required</td>\n",
       "      <td></td>\n",
       "      <td>-</td>\n",
       "    </tr>\n",
       "    <tr>\n",
       "      <th>'Hillshade_9am'</th>\n",
       "      <td>INT</td>\n",
       "      <td>required</td>\n",
       "      <td></td>\n",
       "      <td>-</td>\n",
       "    </tr>\n",
       "    <tr>\n",
       "      <th>'Hillshade_Noon'</th>\n",
       "      <td>INT</td>\n",
       "      <td>required</td>\n",
       "      <td></td>\n",
       "      <td>-</td>\n",
       "    </tr>\n",
       "    <tr>\n",
       "      <th>'Horizontal_Distance_To_Fire_Points'</th>\n",
       "      <td>INT</td>\n",
       "      <td>required</td>\n",
       "      <td></td>\n",
       "      <td>-</td>\n",
       "    </tr>\n",
       "    <tr>\n",
       "      <th>'Horizontal_Distance_To_Hydrology'</th>\n",
       "      <td>FLOAT</td>\n",
       "      <td>optional</td>\n",
       "      <td>single</td>\n",
       "      <td>-</td>\n",
       "    </tr>\n",
       "    <tr>\n",
       "      <th>'Horizontal_Distance_To_Roadways'</th>\n",
       "      <td>INT</td>\n",
       "      <td>required</td>\n",
       "      <td></td>\n",
       "      <td>-</td>\n",
       "    </tr>\n",
       "    <tr>\n",
       "      <th>'Slope'</th>\n",
       "      <td>FLOAT</td>\n",
       "      <td>required</td>\n",
       "      <td></td>\n",
       "      <td>[0.000000,90.000000]</td>\n",
       "    </tr>\n",
       "    <tr>\n",
       "      <th>'Soil_Type'</th>\n",
       "      <td>STRING</td>\n",
       "      <td>required</td>\n",
       "      <td></td>\n",
       "      <td>'Soil_Type'</td>\n",
       "    </tr>\n",
       "    <tr>\n",
       "      <th>'Vertical_Distance_To_Hydrology'</th>\n",
       "      <td>INT</td>\n",
       "      <td>required</td>\n",
       "      <td></td>\n",
       "      <td>-</td>\n",
       "    </tr>\n",
       "    <tr>\n",
       "      <th>'Wilderness_Area'</th>\n",
       "      <td>STRING</td>\n",
       "      <td>required</td>\n",
       "      <td></td>\n",
       "      <td>'Wilderness_Area'</td>\n",
       "    </tr>\n",
       "  </tbody>\n",
       "</table>\n",
       "</div>"
      ],
      "text/plain": [
       "                                        Type  Presence Valency  \\\n",
       "Feature name                                                     \n",
       "'Aspect'                              INT     required           \n",
       "'Cover_Type'                          INT     required           \n",
       "'Elevation'                           INT     required           \n",
       "'Hillshade_3pm'                       INT     required           \n",
       "'Hillshade_9am'                       INT     required           \n",
       "'Hillshade_Noon'                      INT     required           \n",
       "'Horizontal_Distance_To_Fire_Points'  INT     required           \n",
       "'Horizontal_Distance_To_Hydrology'    FLOAT   optional  single   \n",
       "'Horizontal_Distance_To_Roadways'     INT     required           \n",
       "'Slope'                               FLOAT   required           \n",
       "'Soil_Type'                           STRING  required           \n",
       "'Vertical_Distance_To_Hydrology'      INT     required           \n",
       "'Wilderness_Area'                     STRING  required           \n",
       "\n",
       "                                                    Domain  \n",
       "Feature name                                                \n",
       "'Aspect'                              -                     \n",
       "'Cover_Type'                          [1,7]                 \n",
       "'Elevation'                           -                     \n",
       "'Hillshade_3pm'                       -                     \n",
       "'Hillshade_9am'                       -                     \n",
       "'Hillshade_Noon'                      -                     \n",
       "'Horizontal_Distance_To_Fire_Points'  -                     \n",
       "'Horizontal_Distance_To_Hydrology'    -                     \n",
       "'Horizontal_Distance_To_Roadways'     -                     \n",
       "'Slope'                               [0.000000,90.000000]  \n",
       "'Soil_Type'                           'Soil_Type'           \n",
       "'Vertical_Distance_To_Hydrology'      -                     \n",
       "'Wilderness_Area'                     'Wilderness_Area'     "
      ]
     },
     "metadata": {},
     "output_type": "display_data"
    },
    {
     "data": {
      "text/html": [
       "<div>\n",
       "<style scoped>\n",
       "    .dataframe tbody tr th:only-of-type {\n",
       "        vertical-align: middle;\n",
       "    }\n",
       "\n",
       "    .dataframe tbody tr th {\n",
       "        vertical-align: top;\n",
       "    }\n",
       "\n",
       "    .dataframe thead th {\n",
       "        text-align: right;\n",
       "    }\n",
       "</style>\n",
       "<table border=\"1\" class=\"dataframe\">\n",
       "  <thead>\n",
       "    <tr style=\"text-align: right;\">\n",
       "      <th></th>\n",
       "      <th>Values</th>\n",
       "    </tr>\n",
       "    <tr>\n",
       "      <th>Domain</th>\n",
       "      <th></th>\n",
       "    </tr>\n",
       "  </thead>\n",
       "  <tbody>\n",
       "    <tr>\n",
       "      <th>'Wilderness_Area'</th>\n",
       "      <td>'Cache', 'Commanche', 'Neota', 'Rawah'</td>\n",
       "    </tr>\n",
       "    <tr>\n",
       "      <th>'Soil_Type'</th>\n",
       "      <td>'7745', '7202', '7756', '7757', '7201', '4703', '4744', '7746', '7755', '7700', '4758', '8771', '8772', '4704', '2705', '7102', '8776', '2703', '2717', '2704', '7101', '6102', '2702', '6101', '7702', '8703', '6731', '2706', '7790', '4201', '7709', '7710', '7103', '5101', '7701', '8708', '3502', '8707', '3501'</td>\n",
       "    </tr>\n",
       "  </tbody>\n",
       "</table>\n",
       "</div>"
      ],
      "text/plain": [
       "                                                                                                                                                                                                                                                                                                                                   Values\n",
       "Domain                                                                                                                                                                                                                                                                                                                                   \n",
       "'Wilderness_Area'  'Cache', 'Commanche', 'Neota', 'Rawah'                                                                                                                                                                                                                                                                                \n",
       "'Soil_Type'        '7745', '7202', '7756', '7757', '7201', '4703', '4744', '7746', '7755', '7700', '4758', '8771', '8772', '4704', '2705', '7102', '8776', '2703', '2717', '2704', '7101', '6102', '2702', '6101', '7702', '8703', '6731', '2706', '7790', '4201', '7709', '7710', '7103', '5101', '7701', '8708', '3502', '8707', '3501'"
      ]
     },
     "metadata": {},
     "output_type": "display_data"
    }
   ],
   "source": [
    "soil_type_stats = [feature for feature in train_stats.datasets[0].features if feature.path.step[0]=='Soil_Type'][0].string_stats\n",
    "soil_type_domain = [bucket.label for bucket in soil_type_stats.rank_histogram.buckets]\n",
    "\n",
    "tfdv.set_domain(schema, 'Soil_Type', schema_pb2.StringDomain(name='Soil_Type', value=soil_type_domain))\n",
    "tfdv.display_schema(schema=schema)"
   ]
  },
  {
   "cell_type": "markdown",
   "metadata": {},
   "source": [
    "## Creating statistics using Cloud Dataflow\n",
    "\n",
    "Previously, you created descriptive statistics using local compute. This may work for smaller datasets. But for large datasets you may not have enough local compute power. The `tfdv.generate_statistics_*` functions can utilize `DataflowRunner` to run Beam processing on a distributed Dataflow cluster.\n",
    "\n",
    "To run TFDV on Google Cloud Dataflow, the TFDV library must be must be installed on the Dataflow workers. There are different ways to install additional packages on Dataflow. You are going to use the Python `setup.py` file approach.\n",
    "\n",
    "You also configure `tfdv.generate_statistics_from_csv` to use the final schema created in the previous steps."
   ]
  },
  {
   "cell_type": "markdown",
   "metadata": {},
   "source": [
    "### Configure Dataflow settings\n",
    "Create the `setup.py` configured to install TFDV."
   ]
  },
  {
   "cell_type": "code",
   "execution_count": 10,
   "metadata": {},
   "outputs": [
    {
     "name": "stdout",
     "output_type": "stream",
     "text": [
      "Overwriting setup.py\n"
     ]
    }
   ],
   "source": [
    "%%writefile setup.py\n",
    "\n",
    "from setuptools import setup\n",
    "\n",
    "setup(\n",
    "    name='tfdv',\n",
    "    description='TFDV Runtime.',\n",
    "    version='0.1',\n",
    "    install_requires=[\n",
    "      'tensorflow_data_validation==0.15.0'\n",
    "    ]\n",
    ")"
   ]
  },
  {
   "cell_type": "markdown",
   "metadata": {},
   "source": [
    "### Regenerate statistics\n",
    "Re-generate the statistics using Dataflow and the final schema."
   ]
  },
  {
   "cell_type": "code",
   "execution_count": 11,
   "metadata": {},
   "outputs": [
    {
     "name": "stderr",
     "output_type": "stream",
     "text": [
      "WARNING:root:Discarding unparseable args: ['-f', '/root/.local/share/jupyter/runtime/kernel-da7c33bf-e154-4e6c-86cd-89d853f19b12.json']\n",
      "WARNING:root:Discarding unparseable args: ['-f', '/root/.local/share/jupyter/runtime/kernel-da7c33bf-e154-4e6c-86cd-89d853f19b12.json']\n"
     ]
    }
   ],
   "source": [
    "options = PipelineOptions()\n",
    "options.view_as(GoogleCloudOptions).project = PROJECT_ID\n",
    "options.view_as(GoogleCloudOptions).region = REGION\n",
    "options.view_as(GoogleCloudOptions).job_name = \"tfdv-{}\".format(time.strftime(\"%Y%m%d-%H%M%S\"))\n",
    "options.view_as(GoogleCloudOptions).staging_location = STAGING_BUCKET + '/staging/'\n",
    "options.view_as(GoogleCloudOptions).temp_location = STAGING_BUCKET + '/tmp/'\n",
    "options.view_as(StandardOptions).runner = 'DataflowRunner'\n",
    "options.view_as(SetupOptions).setup_file = os.path.join(LAB_ROOT_FOLDER, 'setup.py')\n",
    "\n",
    "stats_options = tfdv.StatsOptions(schema=schema, infer_type_from_schema=True)\n",
    "\n",
    "train_stats = tfdv.generate_statistics_from_csv(\n",
    "    data_location=TRAINING_DATASET_WITH_MISSING_VALUES,\n",
    "    stats_options=stats_options,\n",
    "    pipeline_options=options,\n",
    "    output_path=STAGING_BUCKET + '/output/'\n",
    ")"
   ]
  },
  {
   "cell_type": "code",
   "execution_count": 12,
   "metadata": {},
   "outputs": [
    {
     "data": {
      "text/html": [
       "<iframe id='facets-iframe' width=\"100%\" height=\"500px\"></iframe>\n",
       "        <script>\n",
       "        facets_iframe = document.getElementById('facets-iframe');\n",
       "        facets_html = '<link rel=\"import\" href=\"https://raw.githubusercontent.com/PAIR-code/facets/master/facets-dist/facets-jupyter.html\"><facets-overview proto-input=\"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\"></facets-overview>';\n",
       "        facets_iframe.srcdoc = facets_html;\n",
       "         facets_iframe.id = \"\";\n",
       "         setTimeout(() => {\n",
       "           facets_iframe.setAttribute('height', facets_iframe.contentWindow.document.body.offsetHeight + 'px')\n",
       "         }, 1500)\n",
       "         </script>"
      ],
      "text/plain": [
       "<IPython.core.display.HTML object>"
      ]
     },
     "metadata": {},
     "output_type": "display_data"
    }
   ],
   "source": [
    "tfdv.visualize_statistics(train_stats)"
   ]
  },
  {
   "cell_type": "markdown",
   "metadata": {},
   "source": [
    "## Analyzing evaluation data\n",
    "\n",
    "So far we've only been looking at the training data. It's important that our evaluation data is consistent with our training data, including that it uses the same schema. It's also important that the evaluation data includes examples of roughly the same ranges of values for our numerical features as our training data, so that our coverage of the loss surface during evaluation is roughly the same as during training. The same is true for categorical features. Otherwise, we may have training issues that are not identified during evaluation, because we didn't evaluate part of our loss surface.\n",
    "\n",
    "You will now generate statistics for the evaluation split and visualize both training and evaluation splits on the same chart:\n",
    "\n",
    "- The training and evaluation datasets overlay, making it easy to compare them.\n",
    "- The charts now include a percentages view, which can be combined with log or the default linear scales.\n",
    "- Click expand on the Numeric Features chart, and select the log scale. Review the `Slope` feature, and notice the difference in the max. Will that cause problems?"
   ]
  },
  {
   "cell_type": "code",
   "execution_count": null,
   "metadata": {},
   "outputs": [],
   "source": [
    "stats_options = tfdv.StatsOptions(schema=schema, infer_type_from_schema=True)\n",
    "\n",
    "eval_stats = tfdv.generate_statistics_from_csv(\n",
    "    data_location=EVALUATION_DATASET_WITH_ANOMALIES,\n",
    "    stats_options=stats_options\n",
    ")\n",
    "\n",
    "tfdv.visualize_statistics(lhs_statistics=eval_stats, rhs_statistics=train_stats,\n",
    "                         lhs_name='EVAL DATASET', rhs_name='TRAIN_DATASET')\n"
   ]
  },
  {
   "cell_type": "markdown",
   "metadata": {},
   "source": [
    "### Checking for anomalies\n",
    "\n",
    "Does our evaluation dataset match the schema from our training dataset? This is especially important for categorical features, where we want to identify the range of acceptable values.\n",
    "\n",
    "What would happen if we tried to evaluate using data with categorical feature values that were not in our training dataset? What about numeric features that are outside the ranges in our training dataset?"
   ]
  },
  {
   "cell_type": "code",
   "execution_count": null,
   "metadata": {},
   "outputs": [],
   "source": [
    "anomalies = tfdv.validate_statistics(statistics=eval_stats, schema=schema)\n",
    "tfdv.display_anomalies(anomalies)"
   ]
  },
  {
   "cell_type": "markdown",
   "metadata": {},
   "source": [
    "### Fixing evaluation anomalies in the schema\n",
    "\n",
    "It looks like we have some new values for `Soil_Type` and some out-of-range values for `Slope` in our evaluation data, that we didn't have in our training data. Whever it should be considered anomaly, depends on our domain knowledge of the data. If an anomaly truly indicates a data error, then the underlying data should be fixed. Otherwise, we can simply update the schema to include the values in the eval dataset.\n",
    "\n",
    "In our case, you are going to add the 5151 value to the domain of `Soil_Type` as 5151 is a valid USFS Ecological Landtype Units code representing the unspecified soil type. The out-of-range values in `Slope` are data errors and should be fixed at the source."
   ]
  },
  {
   "cell_type": "code",
   "execution_count": null,
   "metadata": {},
   "outputs": [],
   "source": [
    "tfdv.get_domain(schema, 'Soil_Type').value.append('5151')"
   ]
  },
  {
   "cell_type": "markdown",
   "metadata": {},
   "source": [
    "Re-validate with the updated schema"
   ]
  },
  {
   "cell_type": "code",
   "execution_count": null,
   "metadata": {},
   "outputs": [],
   "source": [
    "updated_anomalies = tfdv.validate_statistics(eval_stats, schema)\n",
    "tfdv.display_anomalies(updated_anomalies)"
   ]
  },
  {
   "cell_type": "markdown",
   "metadata": {},
   "source": [
    "The unexpected string values error in `Soil_Type` is gone but the out-of-range error in `Slope` is still there. Let's pretend you have fixed the source and re-evaluate the evaluation split without corrupted `Slope`."
   ]
  },
  {
   "cell_type": "code",
   "execution_count": null,
   "metadata": {},
   "outputs": [],
   "source": [
    "stats_options = tfdv.StatsOptions(schema=schema, infer_type_from_schema=True)\n",
    "\n",
    "eval_stats = tfdv.generate_statistics_from_csv(\n",
    "    data_location=EVALUATION_DATASET,\n",
    "    stats_options=stats_options\n",
    ")\n",
    "updated_anomalies = tfdv.validate_statistics(eval_stats, schema)\n",
    "tfdv.display_anomalies(updated_anomalies)"
   ]
  },
  {
   "cell_type": "markdown",
   "metadata": {},
   "source": [
    "## Schema environments\n",
    "\n",
    "In supervised learning we need to include labels in our dataset, but when we serve the model for inference the labels will not be included. In cases like that introducing slight schema variations is necessary.\n",
    "\n",
    "For example, in this dataset the `Cover_Type` feature is included as the label for training, but it's missing in the serving data. If you validate the serving data statistics against the current schema you get an anomaly\n",
    "\n",
    "\n"
   ]
  },
  {
   "cell_type": "code",
   "execution_count": null,
   "metadata": {},
   "outputs": [],
   "source": [
    "stats_options = tfdv.StatsOptions(schema=schema, infer_type_from_schema=True)\n",
    "\n",
    "eval_stats = tfdv.generate_statistics_from_csv(\n",
    "    data_location=SERVING_DATASET,\n",
    "    stats_options=stats_options\n",
    ")\n",
    "serving_anomalies = tfdv.validate_statistics(eval_stats, schema)\n",
    "tfdv.display_anomalies(serving_anomalies)"
   ]
  },
  {
   "cell_type": "markdown",
   "metadata": {},
   "source": [
    "**Environments** can be used to address such scenarios. In particular, specific features in schema can be associated with specific environments.\n"
   ]
  },
  {
   "cell_type": "code",
   "execution_count": null,
   "metadata": {},
   "outputs": [],
   "source": [
    "schema.default_environment.append('TRAINING')\n",
    "schema.default_environment.append('SERVING')\n",
    "tfdv.get_feature(schema, 'Cover_Type').not_in_environment.append('SERVING')"
   ]
  },
  {
   "cell_type": "markdown",
   "metadata": {},
   "source": [
    "If you validate the serving statistics against the serving environment in schema you will not get anomaly"
   ]
  },
  {
   "cell_type": "code",
   "execution_count": null,
   "metadata": {},
   "outputs": [],
   "source": [
    "serving_anomalies = tfdv.validate_statistics(eval_stats, schema, environment='SERVING')\n",
    "tfdv.display_anomalies(serving_anomalies)"
   ]
  },
  {
   "cell_type": "markdown",
   "metadata": {},
   "source": [
    "## Freezing the schema\n",
    "\n",
    "When the schema is finalized it can be saved as a textfile and managed under source control like any other code artifact."
   ]
  },
  {
   "cell_type": "code",
   "execution_count": null,
   "metadata": {},
   "outputs": [],
   "source": [
    "output_dir = os.path.join(tempfile.mkdtemp(),'covertype_schema')\n",
    "\n",
    "tf.io.gfile.makedirs(output_dir)\n",
    "schema_file = os.path.join(output_dir, 'schema.pbtxt')\n",
    "tfdv.write_schema_text(schema, schema_file)\n",
    "\n",
    "!cat {schema_file}"
   ]
  },
  {
   "cell_type": "code",
   "execution_count": null,
   "metadata": {},
   "outputs": [],
   "source": []
  }
 ],
 "metadata": {
  "kernelspec": {
   "display_name": "tfx",
   "language": "python",
   "name": "tfx"
  },
  "language_info": {
   "codemirror_mode": {
    "name": "ipython",
    "version": 3
   },
   "file_extension": ".py",
   "mimetype": "text/x-python",
   "name": "python",
   "nbconvert_exporter": "python",
   "pygments_lexer": "ipython3",
   "version": "3.6.9"
  }
 },
 "nbformat": 4,
 "nbformat_minor": 4
}
